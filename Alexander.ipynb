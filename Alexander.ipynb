{
 "cells": [
  {
   "cell_type": "code",
   "execution_count": 12,
   "outputs": [],
   "source": [
    "import numpy as np\n",
    "from matplotlib import pyplot as plt\n",
    "import time\n",
    "from tqdm import tqdm"
   ],
   "metadata": {
    "collapsed": false,
    "pycharm": {
     "name": "#%%\n"
    }
   }
  },
  {
   "cell_type": "code",
   "execution_count": 2,
   "outputs": [
    {
     "data": {
      "text/plain": "'Example algorithm to Create the lists. After copy pasting and transforming them in to list.\\nThe list from them first element and every 3 has the index of the city which needs to be removed\\nLeave it commented out for less memory consumption'"
     },
     "execution_count": 2,
     "metadata": {},
     "output_type": "execute_result"
    }
   ],
   "source": [
    "\"\"\"Example algorithm to Create the lists. After copy pasting and transforming them in to list.\n",
    "The list from them first element and every 3 has the index of the city which needs to be removed\n",
    "Leave it commented out for less memory consumption\"\"\"\n",
    "# counter = 1 ;   c=1\n",
    "# print(\"[\", end=\"\")\n",
    "# for i in range(len(pt)):\n",
    "#     if not (i+3)%3 == 0:\n",
    "#         if not counter%2 == 0:\n",
    "#             print(f\"[{int(pt[i])}, \", end=\"\")\n",
    "#             counter += 1\n",
    "#         else:\n",
    "#             print(f\"{int(pt[i])}], \", end=\"\")\n",
    "#             counter += 1\n",
    "#             c += 1"
   ],
   "metadata": {
    "collapsed": false,
    "pycharm": {
     "name": "#%%\n"
    }
   }
  },
  {
   "cell_type": "code",
   "execution_count": 3,
   "outputs": [
    {
     "name": "stdout",
     "output_type": "stream",
     "text": [
      "Data type of np.arrays = <class 'int'>\n",
      "Length of EI51   = 51\n",
      "Length of A280   = 280\n",
      "Length of PCB442 = 441\n"
     ]
    }
   ],
   "source": [
    "\"\"\"\n",
    "Data Arrays - (Leave them at they are)\n",
    "\"\"\"\n",
    "\n",
    "dtype = int ;   print(f\"Data type of np.arrays = {dtype}\")\n",
    "\n",
    "EI51 = [[37, 52], [49, 49], [52, 64], [20, 26], [40, 30], [21, 47], [17, 63], [31, 62], [52, 33], [51, 21], [42, 41], [31, 32], [5, 25], [12, 42], [36, 16], [52, 41], [27, 23], [17, 33], [13, 13], [57, 58], [62, 42], [42, 57], [16, 57], [8, 52], [7, 38], [27, 68], [30, 48], [43, 67], [58, 48], [58, 27], [37, 69], [38, 46], [46, 10], [61, 33], [62, 63], [63, 69], [32, 22], [45, 35], [59, 15], [5, 6], [10, 17], [21, 10], [5, 64], [30, 15], [39, 10], [32, 39], [25, 32], [25, 55], [48, 28], [56, 37], [30, 40]]\n",
    "EI51 = np.array(EI51, dtype=dtype)\n",
    "print(f\"Length of EI51   = {len(EI51)}\")\n",
    "\n",
    "A280 = [[288, 149], [288, 129], [270, 133], [256, 141], [256, 157], [246, 157], [236, 169], [228, 169], [228, 161], [220, 169], [212, 169], [204, 169], [196, 169], [188, 169], [196, 161], [188, 145], [172, 145], [164, 145], [156, 145], [148, 145], [140, 145], [148, 169], [164, 169], [172, 169], [156, 169], [140, 169], [132, 169], [124, 169], [116, 161], [104, 153], [104, 161], [104, 169], [90, 165], [80, 157], [64, 157], [64, 165], [56, 169], [56, 161], [56, 153], [56, 145], [56, 137], [56, 129], [56, 121], [40, 121], [40, 129], [40, 137], [40, 145], [40, 153], [40, 161], [40, 169], [32, 169], [32, 161], [32, 153], [32, 145], [32, 137], [32, 129], [32, 121], [32, 113], [40, 113], [56, 113], [56, 105], [48, 99], [40, 99], [32, 97], [32, 89], [24, 89], [16, 97], [16, 109], [8, 109], [8, 97], [8, 89], [8, 81], [8, 73], [8, 65], [8, 57], [16, 57], [8, 49], [8, 41], [24, 45], [32, 41], [32, 49], [32, 57], [32, 65], [32, 73], [32, 81], [40, 83], [40, 73], [40, 63], [40, 51], [44, 43], [44, 35], [44, 27], [32, 25], [24, 25], [16, 25], [16, 17], [24, 17], [32, 17], [44, 11], [56, 9], [56, 17], [56, 25], [56, 33], [56, 41], [64, 41], [72, 41], [72, 49], [56, 49], [48, 51], [56, 57], [56, 65], [48, 63], [48, 73], [56, 73], [56, 81], [48, 83], [56, 89], [56, 97], [104, 97], [104, 105], [104, 113], [104, 121], [104, 129], [104, 137], [104, 145], [116, 145], [124, 145], [132, 145], [132, 137], [140, 137], [148, 137], [156, 137], [164, 137], [172, 125], [172, 117], [172, 109], [172, 101], [172, 93], [172, 85], [180, 85], [180, 77], [180, 69], [180, 61], [180, 53], [172, 53], [172, 61], [172, 69], [172, 77], [164, 81], [148, 85], [124, 85], [124, 93], [124, 109], [124, 125], [124, 117], [124, 101], [104, 89], [104, 81], [104, 73], [104, 65], [104, 49], [104, 41], [104, 33], [104, 25], [104, 17], [92, 9], [80, 9], [72, 9], [64, 21], [72, 25], [80, 25], [80, 25], [80, 41], [88, 49], [104, 57], [124, 69], [124, 77], [132, 81], [140, 65], [132, 61], [124, 61], [124, 53], [124, 45], [124, 37], [124, 29], [132, 21], [124, 21], [120, 9], [128, 9], [136, 9], [148, 9], [162, 9], [156, 25], [172, 21], [180, 21], [180, 29], [172, 29], [172, 37], [172, 45], [180, 45], [180, 37], [188, 41], [196, 49], [204, 57], [212, 65], [220, 73], [228, 69], [228, 77], [236, 77], [236, 69], [236, 61], [228, 61], [228, 53], [236, 53], [236, 45], [228, 45], [228, 37], [236, 37], [236, 29], [228, 29], [228, 21], [236, 21], [252, 21], [260, 29], [260, 37], [260, 45], [260, 53], [260, 61], [260, 69], [260, 77], [276, 77], [276, 69], [276, 61], [276, 53], [284, 53], [284, 61], [284, 69], [284, 77], [284, 85], [284, 93], [284, 101], [288, 109], [280, 109], [276, 101], [276, 93], [276, 85], [268, 97], [260, 109], [252, 101], [260, 93], [260, 85], [236, 85], [228, 85], [228, 93], [236, 93], [236, 101], [228, 101], [228, 109], [228, 117], [228, 125], [220, 125], [212, 117], [204, 109], [196, 101], [188, 93], [180, 93], [180, 101], [180, 109], [180, 117], [180, 125], [196, 145], [204, 145], [212, 145], [220, 145], [228, 145], [236, 145], [246, 141], [252, 125], [260, 129], [280, 133]]\n",
    "A280 = np.array(A280, dtype=dtype)\n",
    "print(f\"Length of A280   = {len(A280)}\")\n",
    "\n",
    "PCB442 = [[200, 400], [200, 500], [200, 600], [200, 700], [200, 800], [200, 900], [200, 1000], [200, 1100], [200, 1200], [200, 1300], [200, 1400], [200, 1500], [200, 1600], [200, 1700], [200, 1800], [200, 1900], [200, 2000], [200, 2100], [200, 2200], [200, 2300], [200, 2400], [200, 2500], [200, 2600], [200, 2700], [200, 2800], [200, 2900], [200, 3000], [200, 3100], [200, 3200], [200, 3300], [200, 3400], [200, 3500], [200, 3600], [300, 400], [300, 500], [300, 600], [300, 700], [300, 800], [300, 900], [300, 1000], [300, 1100], [300, 1200], [300, 1300], [300, 1400], [300, 1500], [300, 1600], [300, 1700], [300, 1800], [300, 1900], [300, 2000], [300, 2100], [300, 2200], [300, 2300], [300, 2400], [300, 2500], [300, 2600], [300, 2700], [300, 2800], [300, 2900], [300, 3000], [300, 3100], [300, 3200], [300, 3300], [300, 3400], [300, 3500], [400, 400], [400, 500], [400, 600], [400, 700], [400, 800], [400, 900], [400, 1000], [400, 1100], [400, 1200], [400, 1300], [400, 1400], [400, 1500], [400, 1600], [400, 1700], [400, 1800], [400, 1900], [400, 2000], [400, 2100], [400, 2200], [400, 2300], [400, 2400], [400, 2500], [400, 2600], [400, 2700], [400, 2800], [400, 2900], [400, 3000], [400, 3100], [400, 3200], [400, 3300], [400, 3400], [400, 3500], [400, 3600], [500, 1500], [500, 1829], [500, 3100], [600, 400], [700, 300], [700, 600], [700, 1500], [700, 1600], [700, 1800], [700, 2100], [700, 2400], [700, 2700], [700, 3000], [700, 3300], [700, 3600], [800, 300], [800, 600], [800, 1030], [800, 1500], [800, 1800], [800, 2100], [800, 2400], [800, 2600], [800, 2700], [800, 3000], [800, 3300], [800, 3600], [900, 300], [900, 600], [900, 1500], [900, 1800], [900, 2100], [900, 2400], [900, 2700], [900, 3000], [900, 3300], [900, 3600], [1000, 300], [1000, 600], [1000, 1100], [1000, 1500], [1000, 1629], [1000, 1800], [1000, 2100], [1000, 2400], [1000, 2600], [1000, 2700], [1000, 3000], [1000, 3300], [1000, 3600], [1100, 300], [1100, 600], [1100, 700], [1100, 900], [1100, 1500], [1100, 1800], [1100, 2100], [1100, 2400], [1100, 2700], [1100, 3000], [1100, 3300], [1100, 3600], [1200, 300], [1200, 600], [1200, 1500], [1200, 1700], [1200, 1800], [1200, 2100], [1200, 2400], [1200, 2700], [1200, 3000], [1200, 3300], [1200, 3600], [1300, 300], [1300, 600], [1300, 700], [1300, 1130], [1300, 1500], [1300, 1800], [1300, 2100], [1300, 2200], [1300, 2400], [1300, 2700], [1300, 3000], [1300, 3300], [1300, 3600], [1400, 300], [1400, 600], [1400, 930], [1400, 1500], [1400, 1800], [1400, 2000], [1400, 2100], [1400, 2400], [1400, 2500], [1400, 2700], [1400, 2820], [1400, 2900], [1400, 3000], [1400, 3300], [1400, 3600], [1500, 1500], [1500, 1800], [1500, 1900], [1500, 2100], [1500, 2400], [1500, 2700], [1500, 2800], [1500, 2860], [1500, 3000], [1500, 3300], [1500, 3600], [1600, 1100], [1600, 1300], [1600, 1500], [1600, 1800], [1600, 2100], [1600, 2400], [1600, 2700], [1600, 3000], [1600, 3300], [1600, 3600], [1700, 1200], [1700, 1500], [1700, 1800], [1700, 2100], [1700, 2400], [1700, 3600], [1800, 300], [1800, 600], [1800, 1230], [1800, 1500], [1800, 1800], [1800, 2100], [1800, 2400], [1900, 300], [1900, 600], [1900, 3000], [1900, 3520], [2000, 300], [2000, 370], [2000, 600], [2000, 800], [2000, 900], [2000, 1000], [2000, 1100], [2000, 1200], [2000, 1300], [2000, 1400], [2000, 1500], [2000, 1600], [2000, 1700], [2000, 1800], [2000, 1900], [2000, 2000], [2000, 2100], [2000, 2200], [2000, 2300], [2000, 2400], [2000, 2500], [2000, 2600], [2000, 2700], [2000, 2800], [2000, 2900], [2000, 3000], [2000, 3100], [2000, 3500], [2100, 300], [2100, 600], [2100, 3200], [2200, 300], [2200, 469], [2200, 600], [2200, 3200], [2300, 300], [2300, 600], [2300, 3400], [2400, 300], [2400, 600], [2400, 2100], [2500, 300], [2500, 800], [2600, 400], [2600, 500], [2600, 800], [2600, 900], [2600, 1000], [2600, 1100], [2600, 1200], [2600, 1300], [2600, 1400], [2600, 1500], [2600, 1600], [2600, 1700], [2600, 1800], [2600, 1900], [2600, 2000], [2600, 2100], [2600, 2200], [2600, 2300], [2600, 2400], [2600, 2500], [2600, 2600], [2600, 2700], [2600, 2800], [2600, 2900], [2600, 3000], [2600, 3100], [2600, 3400], [2700, 700], [2700, 800], [2700, 900], [2700, 1000], [2700, 1100], [2700, 1200], [2700, 1300], [2700, 1400], [2700, 1500], [2700, 1600], [2700, 1700], [2700, 1800], [2700, 1900], [2700, 2000], [2700, 2100], [2700, 2200], [2700, 2300], [2700, 2500], [2700, 2600], [2700, 2700], [2700, 2800], [2700, 2900], [2700, 3000], [2700, 3100], [2700, 3200], [2700, 3300], [2700, 3400], [2700, 3500], [2700, 3600], [2700, 3700], [2700, 3800], [2800, 900], [2800, 1130], [2900, 400], [2900, 500], [2900, 1400], [2900, 2400], [2900, 3000], [3000, 700], [3000, 800], [3000, 900], [3000, 1000], [3000, 1100], [3000, 1200], [3000, 1300], [3000, 1500], [3000, 1600], [3000, 1700], [3000, 1800], [3000, 1900], [3000, 2000], [3000, 2100], [3000, 2200], [3000, 2300], [3000, 2500], [3000, 2600], [3000, 2700], [3000, 2800], [3000, 2900], [3000, 3000], [3000, 3100], [3000, 3200], [3000, 3300], [3000, 3400], [3000, 3500], [3000, 3600], [3000, 3700], [3000, 3800], [150, 3500], [150, 3550], [469, 2550], [469, 3350], [469, 3450], [540, 2330], [540, 2430], [620, 3650], [620, 3709], [750, 2550], [850, 520], [850, 700], [850, 2280], [939, 740], [950, 2220], [910, 2600], [1050, 1050], [1150, 1350], [1170, 2280], [1220, 2210], [1350, 750], [1350, 1700], [1350, 2140], [1450, 770], [1550, 300], [1550, 500], [1550, 1850], [1650, 1050], [1690, 2680], [1710, 310], [1710, 510], [1750, 750], [1790, 2580], [1720, 2610], [1790, 3330], [1720, 3409], [1829, 2700], [1829, 2800], [1829, 3450], [2060, 1650], [2050, 3150], [2170, 1900], [2110, 2000], [2120, 2750], [2150, 3250], [2290, 1400], [2220, 2820], [2280, 3250], [2390, 1300], [2320, 1500], [2450, 710], [2620, 3650], [2750, 520], [2760, 2360], [2850, 2200], [2850, 2700], [2850, 3350], [2930, 950], [2950, 1750], [2950, 2050], [520, 3200], [2300, 3500], [2320, 3150], [530, 2100], [2550, 710], [750, 490], [0, 0]]\n",
    "PCB442 = [[200, 400], [200, 500], [200, 600], [200, 700], [200, 800], [200, 900], [200, 1000], [200, 1100], [200, 1200], [200, 1300], [200, 1400], [200, 1500], [200, 1600], [200, 1700], [200, 1800], [200, 1900], [200, 2000], [200, 2100], [200, 2200], [200, 2300], [200, 2400], [200, 2500], [200, 2600], [200, 2700], [200, 2800], [200, 2900], [200, 3000], [200, 3100], [200, 3200], [200, 3300], [200, 3400], [200, 3500], [200, 3600], [300, 400], [300, 500], [300, 600], [300, 700], [300, 800], [300, 900], [300, 1000], [300, 1100], [300, 1200], [300, 1300], [300, 1400], [300, 1500], [300, 1600], [300, 1700], [300, 1800], [300, 1900], [300, 2000], [300, 2100], [300, 2200], [300, 2300], [300, 2400], [300, 2500], [300, 2600], [300, 2700], [300, 2800], [300, 2900], [300, 3000], [300, 3100], [300, 3200], [300, 3300], [300, 3400], [300, 3500], [400, 400], [400, 500], [400, 600], [400, 700], [400, 800], [400, 900], [400, 1000], [400, 1100], [400, 1200], [400, 1300], [400, 1400], [400, 1500], [400, 1600], [400, 1700], [400, 1800], [400, 1900], [400, 2000], [400, 2100], [400, 2200], [400, 2300], [400, 2400], [400, 2500], [400, 2600], [400, 2700], [400, 2800], [400, 2900], [400, 3000], [400, 3100], [400, 3200], [400, 3300], [400, 3400], [400, 3500], [400, 3600], [500, 1500], [500, 1829], [500, 3100], [600, 400], [700, 300], [700, 600], [700, 1500], [700, 1600], [700, 1800], [700, 2100], [700, 2400], [700, 2700], [700, 3000], [700, 3300], [700, 3600], [800, 300], [800, 600], [800, 1030], [800, 1500], [800, 1800], [800, 2100], [800, 2400], [800, 2600], [800, 2700], [800, 3000], [800, 3300], [800, 3600], [900, 300], [900, 600], [900, 1500], [900, 1800], [900, 2100], [900, 2400], [900, 2700], [900, 3000], [900, 3300], [900, 3600], [1000, 300], [1000, 600], [1000, 1100], [1000, 1500], [1000, 1629], [1000, 1800], [1000, 2100], [1000, 2400], [1000, 2600], [1000, 2700], [1000, 3000], [1000, 3300], [1000, 3600], [1100, 300], [1100, 600], [1100, 700], [1100, 900], [1100, 1500], [1100, 1800], [1100, 2100], [1100, 2400], [1100, 2700], [1100, 3000], [1100, 3300], [1100, 3600], [1200, 300], [1200, 600], [1200, 1500], [1200, 1700], [1200, 1800], [1200, 2100], [1200, 2400], [1200, 2700], [1200, 3000], [1200, 3300], [1200, 3600], [1300, 300], [1300, 600], [1300, 700], [1300, 1130], [1300, 1500], [1300, 1800], [1300, 2100], [1300, 2200], [1300, 2400], [1300, 2700], [1300, 3000], [1300, 3300], [1300, 3600], [1400, 300], [1400, 600], [1400, 930], [1400, 1500], [1400, 1800], [1400, 2000], [1400, 2100], [1400, 2400], [1400, 2500], [1400, 2700], [1400, 2820], [1400, 2900], [1400, 3000], [1400, 3300], [1400, 3600], [1500, 1500], [1500, 1800], [1500, 1900], [1500, 2100], [1500, 2400], [1500, 2700], [1500, 2800], [1500, 2860], [1500, 3000], [1500, 3300], [1500, 3600], [1600, 1100], [1600, 1300], [1600, 1500], [1600, 1800], [1600, 2100], [1600, 2400], [1600, 2700], [1600, 3000], [1600, 3300], [1600, 3600], [1700, 1200], [1700, 1500], [1700, 1800], [1700, 2100], [1700, 2400], [1700, 3600], [1800, 300], [1800, 600], [1800, 1230], [1800, 1500], [1800, 1800], [1800, 2100], [1800, 2400], [1900, 300], [1900, 600], [1900, 3000], [1900, 3520], [2000, 300], [2000, 370], [2000, 600], [2000, 800], [2000, 900], [2000, 1000], [2000, 1100], [2000, 1200], [2000, 1300], [2000, 1400], [2000, 1500], [2000, 1600], [2000, 1700], [2000, 1800], [2000, 1900], [2000, 2000], [2000, 2100], [2000, 2200], [2000, 2300], [2000, 2400], [2000, 2500], [2000, 2600], [2000, 2700], [2000, 2800], [2000, 2900], [2000, 3000], [2000, 3100], [2000, 3500], [2100, 300], [2100, 600], [2100, 3200], [2200, 300], [2200, 469], [2200, 600], [2200, 3200], [2300, 300], [2300, 600], [2300, 3400], [2400, 300], [2400, 600], [2400, 2100], [2500, 300], [2500, 800], [2600, 400], [2600, 500], [2600, 800], [2600, 900], [2600, 1000], [2600, 1100], [2600, 1200], [2600, 1300], [2600, 1400], [2600, 1500], [2600, 1600], [2600, 1700], [2600, 1800], [2600, 1900], [2600, 2000], [2600, 2100], [2600, 2200], [2600, 2300], [2600, 2400], [2600, 2500], [2600, 2600], [2600, 2700], [2600, 2800], [2600, 2900], [2600, 3000], [2600, 3100], [2600, 3400], [2700, 700], [2700, 800], [2700, 900], [2700, 1000], [2700, 1100], [2700, 1200], [2700, 1300], [2700, 1400], [2700, 1500], [2700, 1600], [2700, 1700], [2700, 1800], [2700, 1900], [2700, 2000], [2700, 2100], [2700, 2200], [2700, 2300], [2700, 2500], [2700, 2600], [2700, 2700], [2700, 2800], [2700, 2900], [2700, 3000], [2700, 3100], [2700, 3200], [2700, 3300], [2700, 3400], [2700, 3500], [2700, 3600], [2700, 3700], [2700, 3800], [2800, 900], [2800, 1130], [2900, 400], [2900, 500], [2900, 1400], [2900, 2400], [2900, 3000], [3000, 700], [3000, 800], [3000, 900], [3000, 1000], [3000, 1100], [3000, 1200], [3000, 1300], [3000, 1500], [3000, 1600], [3000, 1700], [3000, 1800], [3000, 1900], [3000, 2000], [3000, 2100], [3000, 2200], [3000, 2300], [3000, 2500], [3000, 2600], [3000, 2700], [3000, 2800], [3000, 2900], [3000, 3000], [3000, 3100], [3000, 3200], [3000, 3300], [3000, 3400], [3000, 3500], [3000, 3600], [3000, 3700], [3000, 3800], [150, 3500], [150, 3550], [469, 2550], [469, 3350], [469, 3450], [540, 2330], [540, 2430], [620, 3650], [620, 3709], [750, 2550], [850, 520], [850, 700], [850, 2280], [939, 740], [950, 2220], [910, 2600], [1050, 1050], [1150, 1350], [1170, 2280], [1220, 2210], [1350, 750], [1350, 1700], [1350, 2140], [1450, 770], [1550, 300], [1550, 500], [1550, 1850], [1650, 1050], [1690, 2680], [1710, 310], [1710, 510], [1750, 750], [1790, 2580], [1720, 2610], [1790, 3330], [1720, 3409], [1829, 2700], [1829, 2800], [1829, 3450], [2060, 1650], [2050, 3150], [2170, 1900], [2110, 2000], [2120, 2750], [2150, 3250], [2290, 1400], [2220, 2820], [2280, 3250], [2390, 1300], [2320, 1500], [2450, 710], [2620, 3650], [2750, 520], [2760, 2360], [2850, 2200], [2850, 2700], [2850, 3350], [2930, 950], [2950, 1750], [2950, 2050], [520, 3200], [2300, 3500], [2320, 3150], [530, 2100], [2550, 710], [750, 490]]\n",
    "PCB442 = np.array(PCB442, dtype=dtype)\n",
    "print(f\"Length of PCB442 = {len(PCB442)}\")"
   ],
   "metadata": {
    "collapsed": false,
    "pycharm": {
     "name": "#%%\n"
    }
   }
  },
  {
   "cell_type": "markdown",
   "source": [
    "#### Initializing the sequence that the TSP will go to.\n",
    "Based on the minimum euclidean distance between the cities."
   ],
   "metadata": {
    "collapsed": false,
    "pycharm": {
     "name": "#%% md\n"
    }
   }
  },
  {
   "cell_type": "code",
   "execution_count": 4,
   "outputs": [
    {
     "name": "stdout",
     "output_type": "stream",
     "text": [
      "Map : EI51\n",
      "\n",
      "Deterministically deciding the starting city of the TSP  = 0\n",
      "\n",
      "+infinity number used: 9223372036854775807\n",
      "\n",
      "Total Distance Traveled = 447.72\n",
      "Order which the TSP will visit the cities:\n",
      "[0, 31, 10, 37, 4, 48, 8, 49, 15, 1, 28, 20, 33, 29, 9, 38, 32, 44, 14, 43, 36, 16, 3, 17, 46, 11, 45, 50, 26, 47, 5, 13, 24, 12, 40, 18, 41, 39, 0, 21, 27, 30, 7, 25, 6, 22, 23, 42, 2, 19, 34, 35]\n",
      "\n"
     ]
    }
   ],
   "source": [
    "\"\"\"EI51\"\"\"  ;    print(\"Map : EI51\", end=\"\\n\\n\")\n",
    "\n",
    "\"\"\"Starting City: of the traveling salesman. Can also be random.\"\"\"\n",
    "SC = 0 ; print(f\"Deterministically deciding the starting city of the TSP  = {SC}\", end=\"\\n\\n\")\n",
    "# SC = np.random.randint(0, EI51.shape[0])    ;   print(f\"Randomly Selected Starting City (SP) = {SC}\", end=\"\\n\\n\")\n",
    "\n",
    "inf = np.iinfo(EI51.dtype).max\n",
    "print(f\"+infinity number used: {inf}\", end=\"\\n\\n\")\n",
    "\n",
    "# cpe : copy=True has to be used to avoid changing values in both arrays.\n",
    "# orderA280 = stores the order (sequence) of that the TSP will travel to\n",
    "# DistanceTraveledEI51 : list for the distance of each journey\n",
    "cpe = np.array(EI51, copy=True)  ;   orderEI51 = [SC]  ;   DistanceTraveledEI51 = -1*np.ones(EI51.shape[0], dtype=float)\n",
    "# Current City\n",
    "cc = SC\n",
    "# Getting the Coordinates of the Starting City\n",
    "x , y = EI51[SC, 0] , EI51[SC, 1]\n",
    "# Setting the Coordinates of the starting city to inf,inf (inf based on dtype)  in the temp array so it wont be selected.\n",
    "cpe[SC, 0], cpe[SC, 1] = inf , inf\n",
    "tArray = np.zeros(EI51.shape[0], dtype=EI51.dtype)\n",
    "for i in range(EI51.shape[0]):\n",
    "    # Finds the city with the smallest euclidean distance from the current city (cc)\n",
    "    tArray = np.square(EI51[cc, 0] - cpe[:, 0])   +    np.square(EI51[cc, 1] - cpe[:, 1])\n",
    "    cc = np.argmin(tArray)\n",
    "    DistanceTraveledEI51[i] = np.sqrt(tArray[cc])\n",
    "    cpe[cc, 0], cpe[cc, 1] = inf , inf\n",
    "    orderEI51.append(cc)\n",
    "\n",
    "print(f\"Total Distance Traveled = {DistanceTraveledEI51.sum():0.2f}\")\n",
    "# print(f\"Total Distance Table = {DistanceTraveledEI51}\")\n",
    "print(f\"Order which the TSP will visit the cities:\")\n",
    "print(orderEI51, end=\"\\n\\n\")"
   ],
   "metadata": {
    "collapsed": false,
    "pycharm": {
     "name": "#%%\n"
    }
   }
  },
  {
   "cell_type": "code",
   "execution_count": 5,
   "outputs": [
    {
     "name": "stdout",
     "output_type": "stream",
     "text": [
      "Map : A280\n",
      "\n",
      "Deterministically deciding the starting city of the TSP  = 0\n",
      "\n",
      "+infinity number used: 9223372036854775807\n",
      "\n",
      "Total Distance Traveled = 3065.46\n",
      "Order which the TSP will visit the cities:\n",
      "[0, 279, 1, 2, 278, 277, 3, 276, 275, 274, 273, 272, 271, 270, 15, 16, 17, 18, 19, 20, 127, 126, 125, 124, 29, 30, 31, 28, 27, 26, 25, 21, 24, 22, 23, 13, 12, 11, 10, 9, 7, 6, 8, 5, 4, 259, 258, 257, 256, 253, 252, 207, 206, 209, 208, 251, 254, 255, 248, 247, 246, 243, 240, 239, 238, 237, 230, 231, 232, 233, 234, 235, 236, 245, 244, 249, 250, 229, 228, 227, 226, 225, 224, 223, 222, 221, 218, 217, 214, 213, 210, 211, 212, 215, 216, 219, 220, 202, 201, 199, 143, 142, 141, 140, 139, 138, 137, 136, 135, 134, 133, 269, 268, 267, 266, 265, 264, 263, 262, 261, 260, 14, 132, 131, 130, 129, 128, 153, 154, 152, 155, 151, 150, 176, 175, 180, 179, 178, 177, 149, 148, 147, 146, 145, 144, 198, 197, 196, 193, 194, 195, 200, 192, 191, 190, 189, 188, 187, 186, 184, 183, 182, 181, 160, 161, 162, 163, 164, 165, 166, 167, 168, 100, 99, 98, 97, 92, 93, 94, 95, 96, 91, 90, 89, 88, 108, 107, 103, 102, 101, 169, 170, 171, 172, 105, 104, 106, 173, 174, 159, 158, 157, 156, 118, 119, 120, 121, 122, 123, 33, 32, 35, 34, 37, 36, 38, 39, 40, 41, 42, 59, 60, 117, 116, 114, 113, 110, 109, 111, 87, 82, 81, 80, 79, 78, 75, 74, 73, 72, 71, 70, 69, 66, 65, 64, 63, 62, 61, 115, 85, 84, 83, 86, 112, 58, 43, 44, 45, 46, 47, 48, 49, 50, 51, 52, 53, 54, 55, 56, 57, 67, 68, 76, 77, 0, 241, 242, 205, 204, 203, 185]\n",
      "\n",
      "\n"
     ]
    }
   ],
   "source": [
    "\"\"\"A280\"\"\"  ;    print(\"Map : A280\", end=\"\\n\\n\")\n",
    "\n",
    "\"\"\"Starting City: of the traveling salesman. Can also be random.\"\"\"\n",
    "SC = 0 ; print(f\"Deterministically deciding the starting city of the TSP  = {SC}\", end=\"\\n\\n\")\n",
    "# SC = np.random.randint(0, EI51.shape[0])    ;   print(f\"Randomly Selected Starting City (SP) = {SC}\", end=\"\\n\\n\")\n",
    "\n",
    "inf = np.iinfo(A280.dtype).max\n",
    "print(f\"+infinity number used: {inf}\", end=\"\\n\\n\")\n",
    "\n",
    "# cpa : copy=True has to be used to avoid changing values in both arrays.\n",
    "# orderA280 = stores the order (sequence) of that the TSP will travel to\n",
    "# DistanceTraveledA280 : list for the distance of each journey\n",
    "cpa = np.array(A280, copy=True)  ;   orderA280 = [SC]  ;   DistanceTraveledA280 = -1*np.ones(A280.shape[0], dtype=float)\n",
    "# Current City\n",
    "cc = SC\n",
    "# Getting the Coordinates of the Starting City\n",
    "x , y = A280[SC, 0] , A280[SC, 1]\n",
    "# Setting the Coordinates of the starting city to inf,inf (inf based on dtype)  in the temp array so it wont be selected.\n",
    "cpa[SC, 0], cpa[SC, 1] = inf , inf\n",
    "tArray = np.zeros(A280.shape[0], dtype=A280.dtype)\n",
    "for i in range(A280.shape[0]):\n",
    "    # Finds the city with the smallest euclidean distance from the current city (cc)\n",
    "    tArray = np.square(A280[cc, 0] - cpa[:, 0])   +    np.square(A280[cc, 1] - cpa[:, 1])\n",
    "    cc = np.argmin(tArray)\n",
    "    DistanceTraveledA280[i] = np.sqrt(tArray[cc])\n",
    "    cpa[cc, 0], cpa[cc, 1] = inf , inf\n",
    "    orderA280.append(cc)\n",
    "\n",
    "print(f\"Total Distance Traveled = {DistanceTraveledA280.sum():0.2f}\")\n",
    "# print(f\"Total Distance Table = {DistanceTraveledA280}\")\n",
    "print(f\"Order which the TSP will visit the cities:\")\n",
    "print(orderA280, end=\"\\n\\n\\n\")\n"
   ],
   "metadata": {
    "collapsed": false,
    "pycharm": {
     "name": "#%%\n"
    }
   }
  },
  {
   "cell_type": "code",
   "execution_count": 6,
   "outputs": [
    {
     "name": "stdout",
     "output_type": "stream",
     "text": [
      "Map : PCB442\n",
      "\n",
      "Deterministically deciding the starting city of the TSP  = 0\n",
      "\n",
      "+infinity number used: 9223372036854775807\n",
      "\n",
      "Total Distance Traveled = 61255.63\n",
      "Order which the TSP will visit the cities:\n",
      "[0, 185, 172, 161, 149, 136, 126, 385, 114, 103, 440, 101, 102, 113, 125, 135, 148, 160, 171, 184, 399, 404, 226, 233, 237, 238, 265, 268, 272, 275, 278, 280, 281, 427, 341, 340, 345, 346, 347, 432, 348, 349, 350, 351, 342, 352, 353, 354, 433, 355, 356, 357, 434, 358, 359, 360, 343, 361, 362, 363, 364, 365, 366, 344, 367, 368, 369, 370, 371, 372, 373, 374, 337, 336, 426, 335, 334, 333, 306, 332, 331, 330, 305, 304, 303, 302, 301, 300, 299, 298, 297, 296, 295, 294, 293, 292, 291, 290, 289, 288, 287, 286, 285, 284, 283, 282, 279, 425, 439, 307, 308, 309, 310, 311, 312, 313, 314, 315, 316, 317, 318, 319, 320, 321, 322, 323, 428, 324, 325, 326, 327, 328, 329, 430, 429, 277, 416, 417, 252, 251, 250, 249, 414, 248, 247, 246, 245, 244, 243, 242, 241, 240, 239, 234, 227, 405, 400, 398, 395, 173, 150, 388, 386, 151, 391, 137, 115, 71, 39, 6, 5, 4, 3, 2, 1, 34, 33, 65, 66, 67, 35, 36, 37, 38, 70, 69, 68, 72, 40, 7, 8, 9, 10, 11, 12, 13, 14, 15, 16, 17, 18, 19, 20, 21, 22, 23, 24, 25, 26, 27, 28, 29, 30, 31, 375, 376, 32, 64, 63, 62, 61, 60, 59, 58, 57, 56, 55, 54, 53, 52, 51, 50, 49, 48, 47, 46, 45, 44, 43, 42, 41, 73, 74, 75, 76, 77, 78, 79, 80, 81, 82, 83, 84, 85, 86, 377, 87, 88, 89, 90, 91, 92, 93, 94, 378, 95, 379, 96, 97, 382, 383, 112, 124, 134, 147, 159, 170, 183, 198, 209, 219, 225, 410, 409, 413, 236, 264, 419, 267, 415, 263, 262, 235, 261, 260, 259, 258, 257, 256, 255, 254, 253, 231, 223, 214, 202, 190, 397, 177, 165, 154, 141, 129, 118, 107, 438, 380, 381, 108, 119, 130, 142, 155, 166, 179, 191, 192, 203, 215, 224, 232, 407, 408, 403, 216, 204, 193, 180, 167, 156, 144, 131, 121, 109, 120, 384, 390, 143, 387, 389, 393, 394, 178, 189, 201, 401, 200, 188, 176, 164, 153, 140, 128, 117, 106, 105, 104, 116, 127, 138, 152, 162, 175, 187, 199, 212, 221, 229, 228, 220, 210, 402, 211, 174, 186, 406, 266, 270, 273, 276, 269, 338, 339, 423, 420, 424, 230, 222, 213, 396, 163, 139, 392, 98, 99, 110, 122, 132, 145, 157, 168, 181, 196, 195, 194, 205, 206, 207, 217, 218, 208, 197, 182, 169, 158, 146, 133, 123, 111, 435, 100, 412, 411, 418, 421, 437, 422, 271, 274, 436, 431, 0]\n",
      "\n"
     ]
    }
   ],
   "source": [
    "\"\"\"PCB442\"\"\"  ;    print(\"Map : PCB442\", end=\"\\n\\n\")\n",
    "\n",
    "\"\"\"Starting City: of the traveling salesman. Can also be random.\"\"\"\n",
    "SC = 0 ; print(f\"Deterministically deciding the starting city of the TSP  = {SC}\", end=\"\\n\\n\")\n",
    "# SC = np.random.randint(0, EI51.shape[0])    ;   print(f\"Randomly Selected Starting City (SP) = {SC}\", end=\"\\n\\n\")\n",
    "\n",
    "inf = np.iinfo(PCB442.dtype).max\n",
    "print(f\"+infinity number used: {inf}\", end=\"\\n\\n\")\n",
    "\n",
    "# cpp : copy=True has to be used to avoid changing values in both arrays.\n",
    "# orderA280 = stores the order (sequence) of that the TSP will travel to\n",
    "# DistanceTraveledPCB442 : list for the distance of each journey\n",
    "cpp = np.array(PCB442, copy=True)  ;   orderPCB442 = [SC]  ;   DistanceTraveledPCB442 = -1*np.ones(PCB442.shape[0], dtype=float)\n",
    "\n",
    "# Getting the Coordinates of the Starting City\n",
    "x , y = PCB442[SC, 0] , PCB442[SC, 1]\n",
    "# Setting the Coordinates of the starting city to inf,inf (inf based on dtype)  in the temp array so it wont be selected.\n",
    "cpp[SC, 0], cpp[SC, 1] = inf , inf\n",
    "tArray = np.zeros(PCB442.shape[0], dtype=PCB442.dtype)\n",
    "for i in range(PCB442.shape[0]):\n",
    "    # Finds the city with the smallest euclidean distance from the current city (cc)\n",
    "    tArray = np.square(PCB442[cc, 0] - cpp[:, 0])   +    np.square(PCB442[cc, 1] - cpp[:, 1])\n",
    "    cc = np.argmin(tArray)\n",
    "    DistanceTraveledPCB442[i] = np.sqrt(tArray[cc])\n",
    "    cpp[cc, 0], cpp[cc, 1] = inf , inf\n",
    "    orderPCB442.append(cc)\n",
    "\n",
    "print(f\"Total Distance Traveled = {DistanceTraveledPCB442.sum():0.2f}\")\n",
    "# print(f\"Total Distance Table = {DistanceTraveledPCB442}\")\n",
    "print(f\"Order which the TSP will visit the cities:\")\n",
    "print(orderPCB442, end=\"\\n\\n\")\n"
   ],
   "metadata": {
    "collapsed": false,
    "pycharm": {
     "name": "#%%\n"
    }
   }
  },
  {
   "cell_type": "markdown",
   "source": [
    "#### Testing Permutations before applying euclidean calculations"
   ],
   "metadata": {
    "collapsed": false,
    "pycharm": {
     "name": "#%% md\n"
    }
   }
  },
  {
   "cell_type": "code",
   "execution_count": 51,
   "outputs": [],
   "source": [
    "# %matplotlib\n",
    "LIVE_PLOT = False\n",
    "\n",
    "def initSequence(IA, startingCity=1, exTime=5):\n",
    "    pc = -1* np.ones((IA.shape[0], 3), dtype=int)\n",
    "    for i in range(IA.shape[0]):\n",
    "        pc[i, 0] = IA[i, 0]\n",
    "        pc[i, 1] = IA[i, 1]\n",
    "        pc[i, 2] = i +1\n",
    "\n",
    "    distances = []    ;   mD = []   ;   counter = 0\n",
    "    bestSequence = []   ;   flag = True\n",
    "    SC = startingCity   ;   ST = time.time()    ;   pbar = tqdm(total=100)  ;   s=0\n",
    "    while True:\n",
    "        if time.time() - ST > exTime: break\n",
    "        np.random.seed(counter) #543: has a new unique permutation each time to avoid randomly permuting to a state that was previously calculated\n",
    "        LOC = np.random.permutation(pc)\n",
    "\n",
    "        \"\"\"Calculation Part\"\"\"\n",
    "        inf = np.square(LOC[:, 0].max() - LOC[:, 0].min())   +    np.square(LOC[:, 1].max() - LOC[:, 1].min())\n",
    "        loc = np.array(LOC, copy=True)  ;   orderLOC = [SC]  ;   DT = -1*np.ones(LOC.shape[0], dtype=float)\n",
    "\n",
    "        # Getting the Coordinates of the Starting City\n",
    "        scLoc = np.where(LOC[:,2] == SC)[0][0]\n",
    "        x , y = LOC[scLoc, 0] , LOC[scLoc, 1]\n",
    "        # Setting the Coordinates of the starting city to inf,inf (inf based on dtype)  in the temp array so it wont be selected.\n",
    "        loc[scLoc, 0], loc[scLoc, 1] = inf, inf\n",
    "        cc = scLoc\n",
    "        tArray = np.zeros(LOC.shape[0], dtype=LOC.dtype)\n",
    "        for i in range(LOC.shape[0]-1):\n",
    "            # Finds the city with the smallest euclidean distance from the current city (cc)\n",
    "            tArray = np.square(LOC[cc, 0] - loc[:, 0])   +    np.square(LOC[cc, 1] - loc[:, 1])\n",
    "            cc = np.argmin(tArray)\n",
    "            DT[i] = np.sqrt(tArray[cc])\n",
    "            loc[cc, 0], loc[cc, 1] = inf , inf\n",
    "            orderLOC.append(LOC[cc, 2])\n",
    "        distances.append(DT.sum())\n",
    "\n",
    "        if counter == 0 : mD.append(DT.sum())\n",
    "        elif DT.sum() < mD[-1]:\n",
    "            mD.append(DT.sum())\n",
    "            bestSequence = orderLOC\n",
    "            if not bestSequence == orderLOC: flag=False\n",
    "        else: mD.append(mD[-1])\n",
    "\n",
    "        if LIVE_PLOT:\n",
    "            if counter%50 == 0:\n",
    "                plt.scatter([_ for _ in range(len(distances))], distances)\n",
    "                plt.plot(mD)\n",
    "                plt.pause(0.003)\n",
    "\n",
    "        counter += 1\n",
    "        if time.time() - ST > s: pbar.update(int(1/exTime*100))  ;   s += 1\n",
    "\n",
    "    print(f\"Starting City = {SC} @({pc[SC, 0]} , {pc[SC, 1]})\")\n",
    "    print(f\"Unique solution to the problem = {flag}\")\n",
    "    print(f\"Minimum Distance: {mD[-1]:.2f}\")\n",
    "    print(f\"Sequence: \")\n",
    "    print(bestSequence)\n",
    "    return distances, mD, bestSequence"
   ],
   "metadata": {
    "collapsed": false,
    "pycharm": {
     "name": "#%%\n"
    }
   }
  },
  {
   "cell_type": "code",
   "execution_count": 52,
   "outputs": [
    {
     "name": "stderr",
     "output_type": "stream",
     "text": [
      "110it [00:09, 11.00it/s]                         "
     ]
    },
    {
     "name": "stdout",
     "output_type": "stream",
     "text": [
      "Starting City = 1 @(288 , 129)\n",
      "Unique solution to the problem = True\n",
      "Minimum Distance: 2928.80\n",
      "Sequence: \n",
      "[1, 280, 2, 3, 279, 278, 4, 277, 276, 275, 274, 273, 272, 271, 16, 17, 18, 19, 132, 133, 134, 135, 269, 268, 267, 137, 136, 138, 139, 148, 147, 146, 145, 144, 143, 142, 141, 140, 266, 265, 264, 263, 262, 261, 260, 259, 258, 257, 256, 255, 254, 253, 252, 209, 210, 211, 212, 207, 208, 206, 205, 204, 203, 202, 201, 198, 199, 200, 196, 195, 194, 197, 193, 192, 191, 190, 189, 188, 187, 186, 185, 184, 183, 182, 181, 176, 177, 151, 152, 156, 153, 155, 154, 129, 128, 21, 20, 131, 130, 127, 126, 125, 124, 123, 122, 121, 120, 119, 157, 158, 159, 160, 175, 161, 162, 163, 164, 165, 166, 167, 168, 169, 170, 172, 171, 173, 106, 105, 104, 103, 102, 101, 100, 99, 98, 93, 94, 97, 96, 95, 78, 77, 75, 74, 73, 72, 71, 70, 67, 66, 65, 85, 84, 87, 113, 114, 111, 110, 108, 109, 89, 81, 82, 83, 88, 112, 115, 117, 118, 61, 60, 43, 42, 41, 40, 39, 38, 37, 36, 35, 34, 33, 32, 31, 30, 29, 28, 27, 26, 22, 25, 23, 24, 14, 13, 15, 12, 11, 10, 8, 9, 7, 6, 5, 248, 249, 250, 251, 230, 229, 228, 227, 226, 225, 224, 223, 222, 221, 220, 217, 218, 215, 216, 213, 214, 219, 234, 235, 236, 237, 232, 233, 231, 238, 239, 246, 245, 240, 241, 244, 243, 242, 247, 270, 149, 150, 178, 179, 180, 174, 107, 90, 91, 92, 80, 79, 76, 86, 116, 62, 63, 64, 58, 59, 44, 45, 46, 47, 48, 49, 52, 51, 50, 53, 54, 55, 56, 57, 68, 69]\n",
      "Average minimum Distance = 3228.0823350234537,  \n",
      " Min % compared to the mean = 90.73%\n",
      " % Reduction = 9.27%\n"
     ]
    },
    {
     "name": "stderr",
     "output_type": "stream",
     "text": [
      "\n"
     ]
    },
    {
     "data": {
      "text/plain": "<Figure size 432x288 with 1 Axes>",
      "image/png": "[encoded data removed]"
     },
     "metadata": {
      "needs_background": "light"
     },
     "output_type": "display_data"
    }
   ],
   "source": [
    "\"\"\"Testing the Function\"\"\"\n",
    "distances, mD, bestSequence = initSequence(A280, startingCity=1, exTime=10)\n",
    "print(f\"Average minimum Distance = {np.mean(distances)},  \"\n",
    "      f\"\\n Min % compared to the mean = {mD[-1]/np.mean(distances)*100:.2f}%\"\n",
    "      f\"\\n % Reduction = {100- mD[-1]/np.mean(distances)*100:.2f}%\")\n",
    "plt.scatter([_ for _ in range(len(distances))], distances)\n",
    "plt.plot(mD, \"r\")\n",
    "plt.show()\n",
    "# plt.hist(distances, bins=40)\n"
   ],
   "metadata": {
    "collapsed": false,
    "pycharm": {
     "name": "#%%\n"
    }
   }
  },
  {
   "cell_type": "code",
   "execution_count": 8,
   "outputs": [],
   "source": [
    "\"\"\"EI51\"\"\"\n",
    "distancesE, mD_E, bestSequenceE = initSequence(EI51, startingCity=1, exTime=2)\n",
    "\n",
    "\"\"\"A280\"\"\"\n",
    "distancesA, mD_A, bestSequenceA = initSequence(A280, startingCity=1, exTime=4)\n",
    "\n",
    "\"\"\"PCB442\"\"\"\n",
    "distancesP, mD_P, bestSequenceP = initSequence(PCB442, startingCity=1, exTime=5)"
   ],
   "metadata": {
    "collapsed": false,
    "pycharm": {
     "name": "#%%\n"
    }
   }
  },
  {
   "cell_type": "code",
   "execution_count": null,
   "outputs": [],
   "source": [],
   "metadata": {
    "collapsed": false,
    "pycharm": {
     "name": "#%%\n"
    }
   }
  }
 ],
 "metadata": {
  "kernelspec": {
   "display_name": "Python 3",
   "language": "python",
   "name": "python3"
  },
  "language_info": {
   "codemirror_mode": {
    "name": "ipython",
    "version": 2
   },
   "file_extension": ".py",
   "mimetype": "text/x-python",
   "name": "python",
   "nbconvert_exporter": "python",
   "pygments_lexer": "ipython2",
   "version": "2.7.6"
  }
 },
 "nbformat": 4,
 "nbformat_minor": 0
}